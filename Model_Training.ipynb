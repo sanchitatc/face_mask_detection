{
 "cells": [
  {
   "cell_type": "code",
   "execution_count": 1,
   "id": "54cb2375",
   "metadata": {},
   "outputs": [],
   "source": [
    "import numpy as np\n",
    "\n",
    "data=np.load('data.npy')\n",
    "target=np.load('target.npy')"
   ]
  },
  {
   "cell_type": "code",
   "execution_count": 4,
   "id": "091cb4f6",
   "metadata": {},
   "outputs": [],
   "source": [
    "from keras.models import Sequential\n",
    "from keras.layers import Dense,Activation,Flatten,Dropout\n",
    "from keras.layers import Conv2D,MaxPooling2D\n",
    "from keras.callbacks import ModelCheckpoint"
   ]
  },
  {
   "cell_type": "code",
   "execution_count": 5,
   "id": "77fd005c",
   "metadata": {},
   "outputs": [],
   "source": [
    "model=Sequential()\n",
    "\n",
    "model.add(Conv2D(200,(3,3),input_shape=data.shape[1:]))\n",
    "model.add(Activation('relu'))\n",
    "model.add(MaxPooling2D(pool_size=(2,2)))\n",
    "#The first CNN layer followed by Relu and MaxPooling layers\n",
    "\n",
    "model.add(Conv2D(100,(3,3)))\n",
    "model.add(Activation('relu'))\n",
    "model.add(MaxPooling2D(pool_size=(2,2)))\n",
    "#The second convolution layer followed by Relu and MaxPooling layers\n",
    "\n",
    "model.add(Flatten())\n",
    "model.add(Dropout(0.5))\n",
    "#Flatten layer to stack the output convolutions from second convolution layer\n",
    "model.add(Dense(50,activation='relu'))\n",
    "#Dense layer of 64 neurons\n",
    "model.add(Dense(2,activation='softmax'))\n",
    "#The Final layer with two outputs for two categories\n",
    "\n",
    "model.compile(loss='categorical_crossentropy',optimizer='adam',metrics=['accuracy'])"
   ]
  },
  {
   "cell_type": "code",
   "execution_count": 6,
   "id": "42d8c493",
   "metadata": {},
   "outputs": [],
   "source": [
    "from sklearn.model_selection import train_test_split\n",
    "\n",
    "train_data,test_data,train_target,test_target=train_test_split(data,target,test_size=0.1)"
   ]
  },
  {
   "cell_type": "code",
   "execution_count": 7,
   "id": "0724e136",
   "metadata": {},
   "outputs": [
    {
     "name": "stdout",
     "output_type": "stream",
     "text": [
      "Epoch 1/20\n",
      "31/31 [==============================] - ETA: 0s - loss: 0.6948 - accuracy: 0.4899"
     ]
    },
    {
     "name": "stderr",
     "output_type": "stream",
     "text": [
      "WARNING:absl:Found untraced functions such as _jit_compiled_convolution_op, _jit_compiled_convolution_op, _update_step_xla while saving (showing 3 of 3). These functions will not be directly callable after loading.\n"
     ]
    },
    {
     "name": "stdout",
     "output_type": "stream",
     "text": [
      "INFO:tensorflow:Assets written to: model-001.model\\assets\n"
     ]
    },
    {
     "name": "stderr",
     "output_type": "stream",
     "text": [
      "INFO:tensorflow:Assets written to: model-001.model\\assets\n"
     ]
    },
    {
     "name": "stdout",
     "output_type": "stream",
     "text": [
      "31/31 [==============================] - 58s 2s/step - loss: 0.6948 - accuracy: 0.4899 - val_loss: 0.6931 - val_accuracy: 0.5040\n",
      "Epoch 2/20\n",
      "31/31 [==============================] - 59s 2s/step - loss: 0.6938 - accuracy: 0.4919 - val_loss: 0.6932 - val_accuracy: 0.4960\n",
      "Epoch 3/20\n",
      "31/31 [==============================] - 62s 2s/step - loss: 0.6933 - accuracy: 0.4768 - val_loss: 0.6931 - val_accuracy: 0.4960\n",
      "Epoch 4/20\n",
      "31/31 [==============================] - ETA: 0s - loss: 0.6932 - accuracy: 0.4990"
     ]
    },
    {
     "name": "stderr",
     "output_type": "stream",
     "text": [
      "WARNING:absl:Found untraced functions such as _jit_compiled_convolution_op, _jit_compiled_convolution_op, _update_step_xla while saving (showing 3 of 3). These functions will not be directly callable after loading.\n"
     ]
    },
    {
     "name": "stdout",
     "output_type": "stream",
     "text": [
      "INFO:tensorflow:Assets written to: model-004.model\\assets\n"
     ]
    },
    {
     "name": "stderr",
     "output_type": "stream",
     "text": [
      "INFO:tensorflow:Assets written to: model-004.model\\assets\n"
     ]
    },
    {
     "name": "stdout",
     "output_type": "stream",
     "text": [
      "31/31 [==============================] - 63s 2s/step - loss: 0.6932 - accuracy: 0.4990 - val_loss: 0.6931 - val_accuracy: 0.5040\n",
      "Epoch 5/20\n",
      "31/31 [==============================] - 55s 2s/step - loss: 0.6932 - accuracy: 0.4990 - val_loss: 0.6931 - val_accuracy: 0.5040\n",
      "Epoch 6/20\n",
      "31/31 [==============================] - 61s 2s/step - loss: 0.6932 - accuracy: 0.4990 - val_loss: 0.6931 - val_accuracy: 0.5040\n",
      "Epoch 7/20\n",
      "31/31 [==============================] - ETA: 0s - loss: 0.6932 - accuracy: 0.4990"
     ]
    },
    {
     "name": "stderr",
     "output_type": "stream",
     "text": [
      "WARNING:absl:Found untraced functions such as _jit_compiled_convolution_op, _jit_compiled_convolution_op, _update_step_xla while saving (showing 3 of 3). These functions will not be directly callable after loading.\n"
     ]
    },
    {
     "name": "stdout",
     "output_type": "stream",
     "text": [
      "INFO:tensorflow:Assets written to: model-007.model\\assets\n"
     ]
    },
    {
     "name": "stderr",
     "output_type": "stream",
     "text": [
      "INFO:tensorflow:Assets written to: model-007.model\\assets\n"
     ]
    },
    {
     "name": "stdout",
     "output_type": "stream",
     "text": [
      "31/31 [==============================] - 48s 2s/step - loss: 0.6932 - accuracy: 0.4990 - val_loss: 0.6931 - val_accuracy: 0.5040\n",
      "Epoch 8/20\n",
      "31/31 [==============================] - 43s 1s/step - loss: 0.6932 - accuracy: 0.4525 - val_loss: 0.6932 - val_accuracy: 0.4960\n",
      "Epoch 9/20\n",
      "31/31 [==============================] - 41s 1s/step - loss: 0.6932 - accuracy: 0.5010 - val_loss: 0.6931 - val_accuracy: 0.5040\n",
      "Epoch 10/20\n",
      "31/31 [==============================] - 43s 1s/step - loss: 0.6932 - accuracy: 0.4687 - val_loss: 0.6932 - val_accuracy: 0.4960\n",
      "Epoch 11/20\n",
      "31/31 [==============================] - 43s 1s/step - loss: 0.6932 - accuracy: 0.4747 - val_loss: 0.6932 - val_accuracy: 0.4960\n",
      "Epoch 12/20\n",
      "31/31 [==============================] - 48s 2s/step - loss: 0.6933 - accuracy: 0.4828 - val_loss: 0.6931 - val_accuracy: 0.5040\n",
      "Epoch 13/20\n",
      "31/31 [==============================] - 42s 1s/step - loss: 0.6932 - accuracy: 0.4949 - val_loss: 0.6932 - val_accuracy: 0.4960\n",
      "Epoch 14/20\n",
      "31/31 [==============================] - 42s 1s/step - loss: 0.6933 - accuracy: 0.4747 - val_loss: 0.6931 - val_accuracy: 0.5040\n",
      "Epoch 15/20\n",
      "31/31 [==============================] - 42s 1s/step - loss: 0.6932 - accuracy: 0.5030 - val_loss: 0.6932 - val_accuracy: 0.4960\n",
      "Epoch 16/20\n",
      "31/31 [==============================] - 45s 1s/step - loss: 0.6932 - accuracy: 0.4808 - val_loss: 0.6932 - val_accuracy: 0.4960\n",
      "Epoch 17/20\n",
      "31/31 [==============================] - 44s 1s/step - loss: 0.6932 - accuracy: 0.4747 - val_loss: 0.6932 - val_accuracy: 0.4960\n",
      "Epoch 18/20\n",
      "31/31 [==============================] - 56s 2s/step - loss: 0.6932 - accuracy: 0.5010 - val_loss: 0.6932 - val_accuracy: 0.4960\n",
      "Epoch 19/20\n",
      "31/31 [==============================] - 59s 2s/step - loss: 0.6932 - accuracy: 0.4788 - val_loss: 0.6931 - val_accuracy: 0.4960\n",
      "Epoch 20/20\n",
      "31/31 [==============================] - 58s 2s/step - loss: 0.6932 - accuracy: 0.5010 - val_loss: 0.6932 - val_accuracy: 0.4960\n"
     ]
    }
   ],
   "source": [
    "checkpoint = ModelCheckpoint('model-{epoch:03d}.model',monitor='val_loss',verbose=0,save_best_only=True,mode='auto')\n",
    "history=model.fit(train_data,train_target,epochs=20,callbacks=[checkpoint],validation_split=0.2)"
   ]
  },
  {
   "cell_type": "code",
   "execution_count": 8,
   "id": "dfb97ba6",
   "metadata": {},
   "outputs": [
    {
     "data": {
      "image/png": "[encoded data removed]",
      "text/plain": [
       "<Figure size 640x480 with 1 Axes>"
      ]
     },
     "metadata": {},
     "output_type": "display_data"
    }
   ],
   "source": [
    "from matplotlib import pyplot as plt\n",
    "\n",
    "plt.plot(history.history['loss'],'r',label='training loss')\n",
    "plt.plot(history.history['val_loss'],label='validation loss')\n",
    "plt.xlabel('# epochs')\n",
    "plt.ylabel('loss')\n",
    "plt.legend()\n",
    "plt.show()"
   ]
  },
  {
   "cell_type": "code",
   "execution_count": null,
   "id": "4aaa67ff",
   "metadata": {},
   "outputs": [],
   "source": []
  }
 ],
 "metadata": {
  "kernelspec": {
   "display_name": "Python 3 (ipykernel)",
   "language": "python",
   "name": "python3"
  },
  "language_info": {
   "codemirror_mode": {
    "name": "ipython",
    "version": 3
   },
   "file_extension": ".py",
   "mimetype": "text/x-python",
   "name": "python",
   "nbconvert_exporter": "python",
   "pygments_lexer": "ipython3",
   "version": "3.9.13"
  }
 },
 "nbformat": 4,
 "nbformat_minor": 5
}
